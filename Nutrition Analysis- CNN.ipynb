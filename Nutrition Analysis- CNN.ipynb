{
 "cells": [
  {
   "cell_type": "code",
   "execution_count": 1,
   "metadata": {},
   "outputs": [
    {
     "name": "stderr",
     "output_type": "stream",
     "text": [
      "Using TensorFlow backend.\n",
      "C:\\ProgramData\\Anaconda3\\lib\\site-packages\\tensorflow\\python\\framework\\dtypes.py:516: FutureWarning: Passing (type, 1) or '1type' as a synonym of type is deprecated; in a future version of numpy, it will be understood as (type, (1,)) / '(1,)type'.\n",
      "  _np_qint8 = np.dtype([(\"qint8\", np.int8, 1)])\n",
      "C:\\ProgramData\\Anaconda3\\lib\\site-packages\\tensorflow\\python\\framework\\dtypes.py:517: FutureWarning: Passing (type, 1) or '1type' as a synonym of type is deprecated; in a future version of numpy, it will be understood as (type, (1,)) / '(1,)type'.\n",
      "  _np_quint8 = np.dtype([(\"quint8\", np.uint8, 1)])\n",
      "C:\\ProgramData\\Anaconda3\\lib\\site-packages\\tensorflow\\python\\framework\\dtypes.py:518: FutureWarning: Passing (type, 1) or '1type' as a synonym of type is deprecated; in a future version of numpy, it will be understood as (type, (1,)) / '(1,)type'.\n",
      "  _np_qint16 = np.dtype([(\"qint16\", np.int16, 1)])\n",
      "C:\\ProgramData\\Anaconda3\\lib\\site-packages\\tensorflow\\python\\framework\\dtypes.py:519: FutureWarning: Passing (type, 1) or '1type' as a synonym of type is deprecated; in a future version of numpy, it will be understood as (type, (1,)) / '(1,)type'.\n",
      "  _np_quint16 = np.dtype([(\"quint16\", np.uint16, 1)])\n",
      "C:\\ProgramData\\Anaconda3\\lib\\site-packages\\tensorflow\\python\\framework\\dtypes.py:520: FutureWarning: Passing (type, 1) or '1type' as a synonym of type is deprecated; in a future version of numpy, it will be understood as (type, (1,)) / '(1,)type'.\n",
      "  _np_qint32 = np.dtype([(\"qint32\", np.int32, 1)])\n",
      "C:\\ProgramData\\Anaconda3\\lib\\site-packages\\tensorflow\\python\\framework\\dtypes.py:525: FutureWarning: Passing (type, 1) or '1type' as a synonym of type is deprecated; in a future version of numpy, it will be understood as (type, (1,)) / '(1,)type'.\n",
      "  np_resource = np.dtype([(\"resource\", np.ubyte, 1)])\n",
      "C:\\ProgramData\\Anaconda3\\lib\\site-packages\\tensorboard\\compat\\tensorflow_stub\\dtypes.py:541: FutureWarning: Passing (type, 1) or '1type' as a synonym of type is deprecated; in a future version of numpy, it will be understood as (type, (1,)) / '(1,)type'.\n",
      "  _np_qint8 = np.dtype([(\"qint8\", np.int8, 1)])\n",
      "C:\\ProgramData\\Anaconda3\\lib\\site-packages\\tensorboard\\compat\\tensorflow_stub\\dtypes.py:542: FutureWarning: Passing (type, 1) or '1type' as a synonym of type is deprecated; in a future version of numpy, it will be understood as (type, (1,)) / '(1,)type'.\n",
      "  _np_quint8 = np.dtype([(\"quint8\", np.uint8, 1)])\n",
      "C:\\ProgramData\\Anaconda3\\lib\\site-packages\\tensorboard\\compat\\tensorflow_stub\\dtypes.py:543: FutureWarning: Passing (type, 1) or '1type' as a synonym of type is deprecated; in a future version of numpy, it will be understood as (type, (1,)) / '(1,)type'.\n",
      "  _np_qint16 = np.dtype([(\"qint16\", np.int16, 1)])\n",
      "C:\\ProgramData\\Anaconda3\\lib\\site-packages\\tensorboard\\compat\\tensorflow_stub\\dtypes.py:544: FutureWarning: Passing (type, 1) or '1type' as a synonym of type is deprecated; in a future version of numpy, it will be understood as (type, (1,)) / '(1,)type'.\n",
      "  _np_quint16 = np.dtype([(\"quint16\", np.uint16, 1)])\n",
      "C:\\ProgramData\\Anaconda3\\lib\\site-packages\\tensorboard\\compat\\tensorflow_stub\\dtypes.py:545: FutureWarning: Passing (type, 1) or '1type' as a synonym of type is deprecated; in a future version of numpy, it will be understood as (type, (1,)) / '(1,)type'.\n",
      "  _np_qint32 = np.dtype([(\"qint32\", np.int32, 1)])\n",
      "C:\\ProgramData\\Anaconda3\\lib\\site-packages\\tensorboard\\compat\\tensorflow_stub\\dtypes.py:550: FutureWarning: Passing (type, 1) or '1type' as a synonym of type is deprecated; in a future version of numpy, it will be understood as (type, (1,)) / '(1,)type'.\n",
      "  np_resource = np.dtype([(\"resource\", np.ubyte, 1)])\n"
     ]
    }
   ],
   "source": [
    "from keras.models import Sequential\n",
    "from keras.layers import Dense\n",
    "from keras.layers import Conv2D\n",
    "from keras.layers import MaxPooling2D\n",
    "from keras.layers import Flatten"
   ]
  },
  {
   "cell_type": "code",
   "execution_count": 2,
   "metadata": {},
   "outputs": [],
   "source": [
    "from keras.preprocessing.image import ImageDataGenerator"
   ]
  },
  {
   "cell_type": "code",
   "execution_count": 3,
   "metadata": {},
   "outputs": [],
   "source": [
    "train_datagen=ImageDataGenerator(rescale=1./255,shear_range=0.2,zoom_range=0.2,horizontal_flip=True)\n",
    "test_datagen=ImageDataGenerator(rescale=1./255)"
   ]
  },
  {
   "cell_type": "code",
   "execution_count": 4,
   "metadata": {
    "scrolled": true
   },
   "outputs": [
    {
     "name": "stdout",
     "output_type": "stream",
     "text": [
      "Found 1920 images belonging to 12 classes.\n",
      "Found 479 images belonging to 12 classes.\n"
     ]
    }
   ],
   "source": [
    "x_train=train_datagen.flow_from_directory(r\"C:\\Users\\others\\Desktop\\project\\trainset\",target_size=(64,64),batch_size=32,class_mode=\"categorical\")\n",
    "x_test=train_datagen.flow_from_directory(r\"C:\\Users\\others\\Desktop\\project\\testset\",target_size=(64,64),batch_size=32,class_mode=\"categorical\")"
   ]
  },
  {
   "cell_type": "code",
   "execution_count": 5,
   "metadata": {},
   "outputs": [
    {
     "name": "stdout",
     "output_type": "stream",
     "text": [
      "{'Apple': 0, 'Banana': 1, 'Mango': 2, 'brinjal': 3, 'capsicum': 4, 'cauliflower': 5, 'corn': 6, 'grapes': 7, 'lady finger': 8, 'orange': 9, 'pineapple': 10, 'watermelon': 11}\n"
     ]
    }
   ],
   "source": [
    "print(x_train.class_indices)"
   ]
  },
  {
   "cell_type": "code",
   "execution_count": 6,
   "metadata": {},
   "outputs": [
    {
     "name": "stdout",
     "output_type": "stream",
     "text": [
      "WARNING:tensorflow:From C:\\ProgramData\\Anaconda3\\lib\\site-packages\\keras\\backend\\tensorflow_backend.py:74: The name tf.get_default_graph is deprecated. Please use tf.compat.v1.get_default_graph instead.\n",
      "\n"
     ]
    }
   ],
   "source": [
    "model=Sequential()"
   ]
  },
  {
   "cell_type": "code",
   "execution_count": 7,
   "metadata": {},
   "outputs": [
    {
     "name": "stdout",
     "output_type": "stream",
     "text": [
      "WARNING:tensorflow:From C:\\ProgramData\\Anaconda3\\lib\\site-packages\\keras\\backend\\tensorflow_backend.py:517: The name tf.placeholder is deprecated. Please use tf.compat.v1.placeholder instead.\n",
      "\n",
      "WARNING:tensorflow:From C:\\ProgramData\\Anaconda3\\lib\\site-packages\\keras\\backend\\tensorflow_backend.py:4138: The name tf.random_uniform is deprecated. Please use tf.random.uniform instead.\n",
      "\n"
     ]
    }
   ],
   "source": [
    "model.add(Conv2D(32,(3,3),input_shape=(64,64,3),activation=\"relu\"))"
   ]
  },
  {
   "cell_type": "code",
   "execution_count": 8,
   "metadata": {},
   "outputs": [
    {
     "name": "stdout",
     "output_type": "stream",
     "text": [
      "WARNING:tensorflow:From C:\\ProgramData\\Anaconda3\\lib\\site-packages\\keras\\backend\\tensorflow_backend.py:3976: The name tf.nn.max_pool is deprecated. Please use tf.nn.max_pool2d instead.\n",
      "\n"
     ]
    }
   ],
   "source": [
    "model.add(MaxPooling2D(pool_size=(2,2)))"
   ]
  },
  {
   "cell_type": "code",
   "execution_count": 9,
   "metadata": {},
   "outputs": [],
   "source": [
    "model.add(Flatten())     #input layer of ANN"
   ]
  },
  {
   "cell_type": "code",
   "execution_count": 10,
   "metadata": {},
   "outputs": [
    {
     "name": "stderr",
     "output_type": "stream",
     "text": [
      "C:\\ProgramData\\Anaconda3\\lib\\site-packages\\ipykernel_launcher.py:1: UserWarning: Update your `Dense` call to the Keras 2 API: `Dense(units=200, activation=\"relu\", kernel_initializer=\"random_uniform\")`\n",
      "  \"\"\"Entry point for launching an IPython kernel.\n"
     ]
    }
   ],
   "source": [
    "model.add(Dense(units=200,init=\"random_uniform\",activation=\"relu\")) "
   ]
  },
  {
   "cell_type": "code",
   "execution_count": 11,
   "metadata": {},
   "outputs": [
    {
     "name": "stderr",
     "output_type": "stream",
     "text": [
      "C:\\ProgramData\\Anaconda3\\lib\\site-packages\\ipykernel_launcher.py:1: UserWarning: Update your `Dense` call to the Keras 2 API: `Dense(units=90, activation=\"relu\", kernel_initializer=\"random_uniform\")`\n",
      "  \"\"\"Entry point for launching an IPython kernel.\n"
     ]
    }
   ],
   "source": [
    "model.add(Dense(units=90,init=\"random_uniform\",activation=\"relu\")) "
   ]
  },
  {
   "cell_type": "code",
   "execution_count": 12,
   "metadata": {},
   "outputs": [
    {
     "name": "stderr",
     "output_type": "stream",
     "text": [
      "C:\\ProgramData\\Anaconda3\\lib\\site-packages\\ipykernel_launcher.py:1: UserWarning: Update your `Dense` call to the Keras 2 API: `Dense(units=12, activation=\"softmax\", kernel_initializer=\"random_uniform\")`\n",
      "  \"\"\"Entry point for launching an IPython kernel.\n"
     ]
    }
   ],
   "source": [
    "model.add(Dense(units=12,init=\"random_uniform\",activation=\"softmax\"))  "
   ]
  },
  {
   "cell_type": "code",
   "execution_count": 13,
   "metadata": {},
   "outputs": [
    {
     "name": "stdout",
     "output_type": "stream",
     "text": [
      "WARNING:tensorflow:From C:\\ProgramData\\Anaconda3\\lib\\site-packages\\keras\\optimizers.py:790: The name tf.train.Optimizer is deprecated. Please use tf.compat.v1.train.Optimizer instead.\n",
      "\n",
      "WARNING:tensorflow:From C:\\ProgramData\\Anaconda3\\lib\\site-packages\\keras\\backend\\tensorflow_backend.py:3295: The name tf.log is deprecated. Please use tf.math.log instead.\n",
      "\n"
     ]
    }
   ],
   "source": [
    "model.compile(loss=\"categorical_crossentropy\",optimizer=\"adam\",metrics=['accuracy'])"
   ]
  },
  {
   "cell_type": "code",
   "execution_count": 16,
   "metadata": {},
   "outputs": [
    {
     "name": "stdout",
     "output_type": "stream",
     "text": [
      "Epoch 1/30\n",
      "80/80 [==============================] - 23s 289ms/step - loss: 0.0678 - acc: 0.9789 - val_loss: 0.6032 - val_acc: 0.8723\n",
      "Epoch 2/30\n",
      "80/80 [==============================] - 21s 267ms/step - loss: 0.0772 - acc: 0.9730 - val_loss: 0.6769 - val_acc: 0.8546\n",
      "Epoch 3/30\n",
      "80/80 [==============================] - 23s 290ms/step - loss: 0.0874 - acc: 0.9680 - val_loss: 0.5508 - val_acc: 0.8697\n",
      "Epoch 4/30\n",
      "80/80 [==============================] - 23s 283ms/step - loss: 0.0582 - acc: 0.9809 - val_loss: 0.6693 - val_acc: 0.8536\n",
      "Epoch 5/30\n",
      "80/80 [==============================] - 25s 312ms/step - loss: 0.0397 - acc: 0.9867 - val_loss: 0.7149 - val_acc: 0.8333\n",
      "Epoch 6/30\n",
      "80/80 [==============================] - 23s 286ms/step - loss: 0.0919 - acc: 0.9715 - val_loss: 0.7791 - val_acc: 0.8321\n",
      "Epoch 7/30\n",
      "80/80 [==============================] - 22s 274ms/step - loss: 0.0330 - acc: 0.9918 - val_loss: 0.5969 - val_acc: 0.8648\n",
      "Epoch 8/30\n",
      "80/80 [==============================] - 21s 261ms/step - loss: 0.0526 - acc: 0.9828 - val_loss: 0.7209 - val_acc: 0.8409\n",
      "Epoch 9/30\n",
      "80/80 [==============================] - 22s 275ms/step - loss: 0.0578 - acc: 0.9797 - val_loss: 0.9651 - val_acc: 0.8183\n",
      "Epoch 10/30\n",
      "80/80 [==============================] - 23s 290ms/step - loss: 0.0602 - acc: 0.9813 - val_loss: 0.6204 - val_acc: 0.8824\n",
      "Epoch 11/30\n",
      "80/80 [==============================] - 21s 257ms/step - loss: 0.0602 - acc: 0.9797 - val_loss: 0.7469 - val_acc: 0.8471\n",
      "Epoch 12/30\n",
      "80/80 [==============================] - 21s 258ms/step - loss: 0.0360 - acc: 0.9879 - val_loss: 0.6963 - val_acc: 0.8596\n",
      "Epoch 13/30\n",
      "80/80 [==============================] - 22s 276ms/step - loss: 0.0677 - acc: 0.9777 - val_loss: 0.7377 - val_acc: 0.8148\n",
      "Epoch 14/30\n",
      "80/80 [==============================] - 22s 274ms/step - loss: 0.0545 - acc: 0.9813 - val_loss: 0.6592 - val_acc: 0.8596\n",
      "Epoch 15/30\n",
      "80/80 [==============================] - 21s 268ms/step - loss: 0.0392 - acc: 0.9875 - val_loss: 0.6913 - val_acc: 0.8609\n",
      "Epoch 16/30\n",
      "80/80 [==============================] - 24s 296ms/step - loss: 0.0722 - acc: 0.9742 - val_loss: 1.0185 - val_acc: 0.7960\n",
      "Epoch 17/30\n",
      "80/80 [==============================] - 21s 265ms/step - loss: 0.0404 - acc: 0.9867 - val_loss: 0.6999 - val_acc: 0.8672\n",
      "Epoch 18/30\n",
      "80/80 [==============================] - 20s 256ms/step - loss: 0.0410 - acc: 0.9879 - val_loss: 0.8317 - val_acc: 0.8484\n",
      "Epoch 19/30\n",
      "80/80 [==============================] - 22s 277ms/step - loss: 0.0578 - acc: 0.9793 - val_loss: 0.7372 - val_acc: 0.8623\n",
      "Epoch 20/30\n",
      "80/80 [==============================] - 22s 279ms/step - loss: 0.1052 - acc: 0.9668 - val_loss: 0.8819 - val_acc: 0.8396\n",
      "Epoch 21/30\n",
      "80/80 [==============================] - 22s 274ms/step - loss: 0.0612 - acc: 0.9813 - val_loss: 0.7060 - val_acc: 0.8421\n",
      "Epoch 22/30\n",
      "80/80 [==============================] - 21s 269ms/step - loss: 0.0434 - acc: 0.9859 - val_loss: 0.6569 - val_acc: 0.8636\n",
      "Epoch 23/30\n",
      "80/80 [==============================] - 21s 261ms/step - loss: 0.0442 - acc: 0.9859 - val_loss: 0.7924 - val_acc: 0.8446\n",
      "Epoch 24/30\n",
      "80/80 [==============================] - 21s 265ms/step - loss: 0.0364 - acc: 0.9883 - val_loss: 0.6849 - val_acc: 0.8609\n",
      "Epoch 25/30\n",
      "80/80 [==============================] - 21s 258ms/step - loss: 0.0311 - acc: 0.9930 - val_loss: 0.8415 - val_acc: 0.8360\n",
      "Epoch 26/30\n",
      "80/80 [==============================] - 20s 245ms/step - loss: 0.0250 - acc: 0.9887 - val_loss: 0.6795 - val_acc: 0.8734\n",
      "Epoch 27/30\n",
      "80/80 [==============================] - 20s 256ms/step - loss: 0.0361 - acc: 0.9879 - val_loss: 0.7904 - val_acc: 0.8534\n",
      "Epoch 28/30\n",
      "80/80 [==============================] - 20s 248ms/step - loss: 0.0318 - acc: 0.9895 - val_loss: 0.9004 - val_acc: 0.8348\n",
      "Epoch 29/30\n",
      "80/80 [==============================] - 20s 252ms/step - loss: 0.0523 - acc: 0.9840 - val_loss: 0.7861 - val_acc: 0.8271\n",
      "Epoch 30/30\n",
      "80/80 [==============================] - 21s 261ms/step - loss: 0.0752 - acc: 0.9707 - val_loss: 0.8116 - val_acc: 0.8371\n"
     ]
    },
    {
     "data": {
      "text/plain": [
       "<keras.callbacks.History at 0x20d9383bc08>"
      ]
     },
     "execution_count": 16,
     "metadata": {},
     "output_type": "execute_result"
    }
   ],
   "source": [
    "model.fit_generator(x_train,steps_per_epoch=80,epochs=30,validation_data=x_test,validation_steps=25)    #training testing simultaneous"
   ]
  },
  {
   "cell_type": "code",
   "execution_count": 17,
   "metadata": {},
   "outputs": [],
   "source": [
    "model.save(\"nutrition.h5\") "
   ]
  },
  {
   "cell_type": "code",
   "execution_count": null,
   "metadata": {},
   "outputs": [],
   "source": []
  }
 ],
 "metadata": {
  "kernelspec": {
   "display_name": "Python 3",
   "language": "python",
   "name": "python3"
  },
  "language_info": {
   "codemirror_mode": {
    "name": "ipython",
    "version": 3
   },
   "file_extension": ".py",
   "mimetype": "text/x-python",
   "name": "python",
   "nbconvert_exporter": "python",
   "pygments_lexer": "ipython3",
   "version": "3.7.6"
  }
 },
 "nbformat": 4,
 "nbformat_minor": 4
}
